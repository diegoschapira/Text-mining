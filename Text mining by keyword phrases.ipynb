{
 "cells": [
  {
   "cell_type": "code",
   "execution_count": null,
   "metadata": {
    "collapsed": false
   },
   "outputs": [],
   "source": [
    "import nltk\n",
    "from nltk.corpus import stopwords \n",
    "import pandas as pd\n",
    "import numpy as np\n",
    "import string\n",
    "import time\n",
    "import spacy\n",
    "import gensim\n",
    "from gensim.models.phrases import Phrases, Phraser"
   ]
  },
  {
   "cell_type": "code",
   "execution_count": null,
   "metadata": {
    "collapsed": false
   },
   "outputs": [],
   "source": [
    "path = 'file_path'\n",
    "df = pd.read_excel(path,encoding='utf8',keep_default_na=False)\n",
    "docs = df['Verbatim'].fillna('').tolist()"
   ]
  },
  {
   "cell_type": "code",
   "execution_count": null,
   "metadata": {
    "collapsed": false
   },
   "outputs": [],
   "source": [
    "def TextPreprocessSpaCy(docs):\n",
    "\n",
    "    nlp = spacy.load('en_core_web_sm',disable=['ner'])\n",
    "    \n",
    "    stop_words = stopwords.words('english')\n",
    "    stop_add = ['-pron-']\n",
    "    stop_remove = []\n",
    "    stop = [x for x in stop_words if x not in stop_remove] + stop_add\n",
    "     \n",
    "    pos = ['SYM','NUM','NOUN','ADJ']\n",
    "    \n",
    "    tok_train = []\n",
    "    tok_doc = []\n",
    "    for doc in nlp.pipe(docs):\n",
    "        tok_sent = []\n",
    "        sentences = doc.sents\n",
    "        for sent in sentences:\n",
    "            tokens = [token.lemma_.lower() for token in sent if token.pos_ in pos]\n",
    "            tokens = [i for i in tokens if i not in stop]\n",
    "            tokens = [i for i in tokens if i not in string.punctuation]\n",
    "            tok_train.append(tokens)\n",
    "            tok_sent.extend(tokens)\n",
    "        tok_doc.append(tok_sent)\n",
    "    \n",
    "    return tok_train,tok_doc\n",
    "\n",
    "#Run preprocessing\n",
    "tokens = TextPreprocessSpaCy(docs)\n",
    "\n",
    "#Phrases Modelling\n",
    "bigram_model = Phrases(tokens[0],min_count=5,threshold=1)\n",
    "bigram_phraser = Phraser(bigram_model)\n",
    "trigram_model = Phrases(bigram_phraser[tokens[0]],min_count=5,threshold=1)\n",
    "trigram_phraser = Phraser(trigram_model)\n",
    "\n",
    "tokens_trigram = list(trigram_phraser[bigram_phraser[tokens[1]]])"
   ]
  },
  {
   "cell_type": "markdown",
   "metadata": {
    "collapsed": false
   },
   "source": [
    "# Keyword/Phrases exploration\n",
    "Use below script to extract keyword phrases containing specific keywords"
   ]
  },
  {
   "cell_type": "code",
   "execution_count": null,
   "metadata": {
    "collapsed": false
   },
   "outputs": [],
   "source": [
    "phrases = []\n",
    "\n",
    "for i in tokens_trigram:\n",
    "    j = [x for x in i if '_' in x and 'word1' in x or 'word2' in x or 'word3' in x]\n",
    "    phrases.extend(j)\n",
    "\n",
    "df = pd.DataFrame(phrases,columns=['keyword'])\n",
    "df.keyword.value_counts().head(40)"
   ]
  }
 ],
 "metadata": {
  "kernelspec": {
   "display_name": "Python 3",
   "language": "python",
   "name": "python3"
  },
  "language_info": {
   "codemirror_mode": {
    "name": "ipython",
    "version": 3
   },
   "file_extension": ".py",
   "mimetype": "text/x-python",
   "name": "python",
   "nbconvert_exporter": "python",
   "pygments_lexer": "ipython3",
   "version": "3.6.0"
  }
 },
 "nbformat": 4,
 "nbformat_minor": 2
}
